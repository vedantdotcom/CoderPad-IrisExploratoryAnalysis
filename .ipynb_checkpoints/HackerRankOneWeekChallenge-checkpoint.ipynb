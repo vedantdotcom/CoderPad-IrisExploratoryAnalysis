{
 "cells": [
  {
   "cell_type": "markdown",
   "id": "c6e7870c-9163-4380-ba8e-6839a038dfaa",
   "metadata": {},
   "source": [
    "### Day 1 HackerRank Problems"
   ]
  },
  {
   "cell_type": "code",
   "execution_count": 180,
   "id": "4acc89bc-2327-4167-bca9-53597d8eca24",
   "metadata": {
    "tags": []
   },
   "outputs": [],
   "source": [
    "# Problem: https://www.hackerrank.com/challenges/one-week-preparation-kit-plus-minus/problem\n",
    "\n",
    "import math\n",
    "import os\n",
    "import random\n",
    "import re\n",
    "import sys\n",
    "\n",
    "def plusMinus(arr):\n",
    "    length = len(arr)\n",
    "\n",
    "    positives = (len([x for x in arr if x > 0]) / length)\n",
    "    negatives = (len([x for x in arr if x < 0]) / length)\n",
    "    zeroes = (len([x for x in arr if x == 0]) / length)\n",
    "\n",
    "    print(\"{:.6f}\".format(positives))\n",
    "    print(\"{:.6f}\".format(negatives))\n",
    "    print(\"{:.6f}\".format(zeroes))"
   ]
  },
  {
   "cell_type": "code",
   "execution_count": 179,
   "id": "d23fbff9-dc48-4459-8093-b01eb1fd18c0",
   "metadata": {
    "tags": []
   },
   "outputs": [],
   "source": [
    "# Problem: https://www.hackerrank.com/challenges/one-week-preparation-kit-mini-max-sum\n",
    "def miniMaxSum(arr):\n",
    "    print(f'''{sum(arr) - max(arr)} {sum(arr) - min(arr)}''')"
   ]
  },
  {
   "cell_type": "code",
   "execution_count": 152,
   "id": "046da668-6a6c-407e-adda-9ff842900250",
   "metadata": {
    "tags": []
   },
   "outputs": [],
   "source": [
    "# Problem: https://www.hackerrank.com/challenges/one-week-preparation-kit-mini-max-sum\n",
    "def timeConversion(s):\n",
    "    hour = int(s[:2])\n",
    "    period = s[-2:]\n",
    "    \n",
    "    if period == \"AM\":\n",
    "        if hour in range(1, 12):\n",
    "            hour = hour\n",
    "        elif hour == 12:\n",
    "            hour = 0\n",
    "    elif period == \"PM\":\n",
    "        if hour in range(1, 12):\n",
    "            hour = hour + 12\n",
    "        elif hour == 12:\n",
    "            hour = hour\n",
    "    \n",
    "    new_hour = f\"{hour:02}\"\n",
    "\n",
    "    new_s = new_hour + s[2:-2]\n",
    "    \n",
    "    return new_s\n",
    "    "
   ]
  },
  {
   "cell_type": "code",
   "execution_count": 208,
   "id": "4f03a13f-9dd4-4e04-bcce-e4e084582059",
   "metadata": {
    "tags": []
   },
   "outputs": [
    {
     "name": "stdout",
     "output_type": "stream",
     "text": [
      "1\n",
      "2\n",
      "Fizz\n",
      "4\n",
      "Buzz\n",
      "Fizz\n",
      "7\n",
      "8\n",
      "Fizz\n",
      "Buzz\n",
      "11\n",
      "Fizz\n",
      "13\n",
      "14\n",
      "FizzBuzz\n"
     ]
    }
   ],
   "source": [
    "# Day 1 Test\n",
    "N = []\n",
    "for x in range(1, len(n)+1):    \n",
    "    if (x % 3 == 0) and (x % 5 != 0):\n",
    "        z = \"Fizz\"\n",
    "    elif (x % 5 == 0) and (x % 3 != 0):\n",
    "        z = \"Buzz\"\n",
    "    elif (x % 3 == 0) and (x % 5 == 0):\n",
    "        z = \"FizzBuzz\"\n",
    "    else:\n",
    "        z = x\n",
    "    N.append(z)\n",
    "    \n",
    "for x in N:\n",
    "    print(x)"
   ]
  },
  {
   "cell_type": "markdown",
   "id": "9547fa61-cbb6-41ab-b850-d37fc22ad677",
   "metadata": {},
   "source": [
    "### Day 2 HackerRank Problems"
   ]
  },
  {
   "cell_type": "code",
   "execution_count": 233,
   "id": "bfc36396-3ff7-4435-bdcd-0c276caaaa03",
   "metadata": {
    "tags": []
   },
   "outputs": [
    {
     "name": "stdout",
     "output_type": "stream",
     "text": [
      "2\n"
     ]
    }
   ],
   "source": [
    "# Problem : https://www.hackerrank.com/challenges/one-week-preparation-kit-lonely-integer\n",
    "for x in range(1, len(a) + 1):\n",
    "    if a.count(a[x - 1]) == 1:\n",
    "        lonely = (a[x - 1])\n",
    "    else:\n",
    "        pass\n",
    "print(lonely)"
   ]
  },
  {
   "cell_type": "code",
   "execution_count": 15,
   "id": "ae60803b-cdd5-4ea2-b76e-65a3ecc6e650",
   "metadata": {
    "tags": []
   },
   "outputs": [
    {
     "name": "stdout",
     "output_type": "stream",
     "text": [
      "2\n"
     ]
    }
   ],
   "source": [
    "# Problem: https://www.hackerrank.com/challenges/one-week-preparation-kit-diagonal-difference\n",
    "\n",
    "left_right = []\n",
    "right_left = []\n",
    "for x in range(0, len(arr)):\n",
    "    left_right.append(arr[x][x])\n",
    "    left_right_sum = sum(left_right)\n",
    "    \n",
    "    right_left.append(arr[x][len(arr) - 1 - x])\n",
    "    right_left_sum = sum(right_left)\n",
    "    \n",
    "abs_diff = abs(left_right_sum - right_left_sum)\n",
    "print(abs_diff)\n",
    "    "
   ]
  },
  {
   "cell_type": "code",
   "execution_count": 16,
   "id": "989d7b56-3e53-446b-aa1f-ff8d7603aa93",
   "metadata": {
    "tags": []
   },
   "outputs": [],
   "source": [
    "arr = [1, 1, 3, 2, 1] "
   ]
  },
  {
   "cell_type": "code",
   "execution_count": 48,
   "id": "dd0b3e94-8ea8-4e2f-9d01-38494a77d065",
   "metadata": {
    "tags": []
   },
   "outputs": [
    {
     "name": "stdout",
     "output_type": "stream",
     "text": [
      "0 1\n",
      "1 1\n",
      "2 3\n",
      "3 2\n",
      "4 1\n"
     ]
    },
    {
     "data": {
      "text/plain": [
       "[0,\n",
       " 3,\n",
       " 1,\n",
       " 1,\n",
       " 0,\n",
       " 0,\n",
       " 0,\n",
       " 0,\n",
       " 0,\n",
       " 0,\n",
       " 0,\n",
       " 0,\n",
       " 0,\n",
       " 0,\n",
       " 0,\n",
       " 0,\n",
       " 0,\n",
       " 0,\n",
       " 0,\n",
       " 0,\n",
       " 0,\n",
       " 0,\n",
       " 0,\n",
       " 0,\n",
       " 0,\n",
       " 0,\n",
       " 0,\n",
       " 0,\n",
       " 0,\n",
       " 0,\n",
       " 0,\n",
       " 0,\n",
       " 0,\n",
       " 0,\n",
       " 0,\n",
       " 0,\n",
       " 0,\n",
       " 0,\n",
       " 0,\n",
       " 0,\n",
       " 0,\n",
       " 0,\n",
       " 0,\n",
       " 0,\n",
       " 0,\n",
       " 0,\n",
       " 0,\n",
       " 0,\n",
       " 0,\n",
       " 0,\n",
       " 0,\n",
       " 0,\n",
       " 0,\n",
       " 0,\n",
       " 0,\n",
       " 0,\n",
       " 0,\n",
       " 0,\n",
       " 0,\n",
       " 0,\n",
       " 0,\n",
       " 0,\n",
       " 0,\n",
       " 0,\n",
       " 0,\n",
       " 0,\n",
       " 0,\n",
       " 0,\n",
       " 0,\n",
       " 0,\n",
       " 0,\n",
       " 0,\n",
       " 0,\n",
       " 0,\n",
       " 0,\n",
       " 0,\n",
       " 0,\n",
       " 0,\n",
       " 0,\n",
       " 0,\n",
       " 0,\n",
       " 0,\n",
       " 0,\n",
       " 0,\n",
       " 0,\n",
       " 0,\n",
       " 0,\n",
       " 0,\n",
       " 0,\n",
       " 0,\n",
       " 0,\n",
       " 0,\n",
       " 0,\n",
       " 0,\n",
       " 0,\n",
       " 0,\n",
       " 0,\n",
       " 0,\n",
       " 0,\n",
       " 0]"
      ]
     },
     "execution_count": 48,
     "metadata": {},
     "output_type": "execute_result"
    }
   ],
   "source": [
    "result=[0] * 100\n",
    "for x in range(0, len(arr)):\n",
    "    result[arr[x]] = result[arr[x]] + 1 \n",
    "    print(x, arr[x])\n",
    "    \n",
    "result"
   ]
  },
  {
   "cell_type": "markdown",
   "id": "a5c8593e-1187-49bf-ad5b-348565b9c822",
   "metadata": {},
   "source": [
    "### Day 3 Problems"
   ]
  },
  {
   "cell_type": "code",
   "execution_count": 148,
   "id": "b549f72c-05f3-42f6-96b8-8a428e7088f2",
   "metadata": {
    "tags": []
   },
   "outputs": [],
   "source": [
    "# Problem: https://www.hackerrank.com/challenges/one-week-preparation-kit-zig-zag-sequence\n",
    "\n",
    "def findZigZagSequence(a, n):\n",
    "    a.sort()\n",
    "    mid = int((n + 1)/2) - 1 # Added - 1 to get correct midpoint\n",
    "    a[mid], a[n-1] = a[n-1], a[mid]\n",
    "\n",
    "    st = mid + 1\n",
    "    ed = n - 2 # Changed -1 to -2 to get correct starting (end) point\n",
    "    while(st <= ed):\n",
    "        a[st], a[ed] = a[ed], a[st]\n",
    "        st = st + 1\n",
    "        ed = ed - 1 # Corrected so that the (end) point decreases as the start increases.\n",
    "\n",
    "    for i in range (n):\n",
    "        if i == n-1:\n",
    "            print(a[i])\n",
    "        else:\n",
    "            print(a[i], end = ' ')\n",
    "    return"
   ]
  },
  {
   "cell_type": "code",
   "execution_count": 174,
   "id": "5f43796f-d396-4cd6-a274-97d59bb25ea4",
   "metadata": {
    "tags": []
   },
   "outputs": [
    {
     "data": {
      "text/plain": [
       "['y',\n",
       " 'z',\n",
       " 'c',\n",
       " 'd',\n",
       " 'e',\n",
       " 'f',\n",
       " 'g',\n",
       " 'h',\n",
       " 'i',\n",
       " 'j',\n",
       " 'k',\n",
       " 'l',\n",
       " 'm',\n",
       " 'n',\n",
       " 'o',\n",
       " 'p',\n",
       " 'q',\n",
       " 'r',\n",
       " 's',\n",
       " 't',\n",
       " 'u',\n",
       " 'v',\n",
       " 'w',\n",
       " 'x',\n",
       " 'y',\n",
       " 'z']"
      ]
     },
     "execution_count": 174,
     "metadata": {},
     "output_type": "execute_result"
    }
   ],
   "source": [
    "# Problem: https://www.hackerrank.com/challenges/one-week-preparation-kit-caesar-cipher-1\n",
    "\n",
    "alphabet = [\"a\", \"b\", \"c\", \"d\", \"e\", \"f\", \"g\", \"h\", \"i\", \"j\", \"k\", \"l\", \"m\", \"n\", \"o\", \"p\", \"q\", \"r\", \"s\", \"t\", \"u\", \"v\", \"w\", \"x\", \"y\", \"z\"]\n",
    "step = 2\n",
    "front = a[step:]\n",
    "back = a[-step:]\n",
    "new_alphabet = back + front\n",
    "new_alphabet\n"
   ]
  },
  {
   "cell_type": "code",
   "execution_count": 187,
   "id": "22331bc8-a3b4-43a7-81d4-968b31d95862",
   "metadata": {
    "tags": []
   },
   "outputs": [],
   "source": [
    "class Vehicle:\n",
    "    def __init__(self, max_speed, mileage):\n",
    "        self.max_speed = max_speed\n",
    "        self.mileage = mileage\n"
   ]
  },
  {
   "cell_type": "code",
   "execution_count": 188,
   "id": "aa0f88b8-991e-43c5-be59-59c93c7be3c8",
   "metadata": {
    "tags": []
   },
   "outputs": [
    {
     "name": "stdout",
     "output_type": "stream",
     "text": [
      "240 180\n"
     ]
    }
   ],
   "source": [
    "modelX = Vehicle(240, 180)\n",
    "print(modelX.max_speed, modelX.mileage)"
   ]
  },
  {
   "cell_type": "code",
   "execution_count": 179,
   "id": "c8eee7e0-967e-4282-bd84-e86755939b2d",
   "metadata": {
    "tags": []
   },
   "outputs": [
    {
     "name": "stdout",
     "output_type": "stream",
     "text": [
      "The shark is being awesome.\n"
     ]
    }
   ],
   "source": [
    "sammy.be_awesome()"
   ]
  },
  {
   "cell_type": "code",
   "execution_count": 27,
   "id": "7cc0ae76-a46b-4ee6-a0f0-aae986b11ae0",
   "metadata": {},
   "outputs": [],
   "source": [
    "### Caesar Cipher\n",
    "\n",
    "# Lower alphabet\n",
    "lower_alpha = [\"a\", \"b\", \"c\", \"d\", \"e\", \"f\", \"g\", \"h\", \"i\", \"j\", \"k\", \"l\", \"m\", \"n\", \"o\", \"p\", \"q\", \"r\", \"s\", \"t\", \"u\", \"v\", \"w\", \"x\", \"y\", \"z\"]\n",
    "\n",
    "# Upper alphabet\n",
    "upper_alpha = []\n",
    "\n",
    "for x in lower_alpha: \n",
    "    upper_alpha.append(x.upper())\n",
    "\n",
    "# Integer and alphabet shift\n",
    "n = 2\n",
    "lower_shifted = lower_alpha[n:] + lower_alpha[:n]\n",
    "upper_shifted = upper_alpha[n:] + upper_alpha[:n]\n",
    "\n",
    "# Append lower and upper alphas and shifted alphas\n",
    "alpha = lower_alpha + upper_alpha\n",
    "new_alpha = lower_shifted + upper_shifted\n",
    "\n",
    "shifted_letters = []\n",
    "\n",
    "for s in string:\n",
    "    x = new_alpha[alpha.index(s)]\n",
    "    shifted_letters.append(x)\n",
    "\n",
    "shifted_string = \"\".join(shifted_letters)   \n",
    "shifted_string"
   ]
  },
  {
   "cell_type": "code",
   "execution_count": 40,
   "id": "b623b9e2-6619-4064-af3b-fac0d53e2442",
   "metadata": {
    "tags": []
   },
   "outputs": [
    {
     "data": {
      "text/plain": [
       "'Cde'"
      ]
     },
     "execution_count": 40,
     "metadata": {},
     "output_type": "execute_result"
    }
   ],
   "source": []
  }
 ],
 "metadata": {
  "kernelspec": {
   "display_name": "Python 3",
   "language": "python",
   "name": "python3"
  },
  "language_info": {
   "codemirror_mode": {
    "name": "ipython",
    "version": 3
   },
   "file_extension": ".py",
   "mimetype": "text/x-python",
   "name": "python",
   "nbconvert_exporter": "python",
   "pygments_lexer": "ipython3",
   "version": "3.8.8"
  }
 },
 "nbformat": 4,
 "nbformat_minor": 5
}
