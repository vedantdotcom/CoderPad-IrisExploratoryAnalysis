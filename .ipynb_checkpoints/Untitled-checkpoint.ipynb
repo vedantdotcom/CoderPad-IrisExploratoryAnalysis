{
 "cells": [
  {
   "cell_type": "markdown",
   "id": "e35c8ba4-143d-4682-807e-8f1b6780a69f",
   "metadata": {},
   "source": [
    "### This notebook answers the CoderPad Interview question\n",
    "**Success criteria**\n",
    "\n",
    "At minimum, a candidate should be able to conduct a basic analysis showing that they explored the data and found a way to separate the unique characteristics of each flower from the other.\n",
    "\n",
    "**For example:**\n",
    "\n",
    "1) Does one species of iris have longer petals than the other?\n",
    "2) Can the candidate pose questions about the dataset and explore the data for answers to those questions?\n",
    "3) Are the methods the candidate uses to explore the data reasonable? This question primarily requires some basic analysis and data visualization.  If a candidate starts off with a more complex approach, there may be a missed opportunity for fast, early lessons from the data, aka “low-hanging fruit.”\n",
    "4) Can the candidate support any observations with plots?\n",
    "5) How does the candidate form inferences from the data and how well does that candidate apply statistics to defend their inferences?"
   ]
  },
  {
   "cell_type": "code",
   "execution_count": 48,
   "id": "6c24dd86-61a2-4ebc-8868-cb3743990428",
   "metadata": {
    "tags": []
   },
   "outputs": [],
   "source": [
    "# Import Packages\n",
    "from ucimlrepo import fetch_ucirepo \n",
    "import pandas as pd\n",
    "import matplotlib.pyplot as plt"
   ]
  },
  {
   "cell_type": "code",
   "execution_count": 41,
   "id": "a4cc346a-85d2-4b5a-a611-5762707e2c95",
   "metadata": {
    "tags": []
   },
   "outputs": [],
   "source": [
    "# Settings\n",
    "pd.set_option('display.max_columns', None)"
   ]
  },
  {
   "cell_type": "markdown",
   "id": "e2f08d6c-d540-4d20-9652-f35090e547f9",
   "metadata": {
    "tags": []
   },
   "source": [
    "### Get Iris Data"
   ]
  },
  {
   "cell_type": "code",
   "execution_count": 35,
   "id": "cec53d44-b2c4-4a9a-999f-6ddf8145ccfd",
   "metadata": {
    "tags": []
   },
   "outputs": [
    {
     "name": "stdout",
     "output_type": "stream",
     "text": [
      "{'uci_id': 53, 'name': 'Iris', 'repository_url': 'https://archive.ics.uci.edu/dataset/53/iris', 'data_url': 'https://archive.ics.uci.edu/static/public/53/data.csv', 'abstract': 'A small classic dataset from Fisher, 1936. One of the earliest known datasets used for evaluating classification methods.\\n', 'area': 'Biology', 'tasks': ['Classification'], 'characteristics': ['Tabular'], 'num_instances': 150, 'num_features': 4, 'feature_types': ['Real'], 'demographics': [], 'target_col': ['class'], 'index_col': None, 'has_missing_values': 'no', 'missing_values_symbol': None, 'year_of_dataset_creation': 1936, 'last_updated': 'Tue Sep 12 2023', 'dataset_doi': '10.24432/C56C76', 'creators': ['R. A. Fisher'], 'intro_paper': {'title': 'The Iris data set: In search of the source of virginica', 'authors': 'A. Unwin, K. Kleinman', 'published_in': 'Significance, 2021', 'year': 2021, 'url': 'https://www.semanticscholar.org/paper/4599862ea877863669a6a8e63a3c707a787d5d7e', 'doi': '1740-9713.01589'}, 'additional_info': {'summary': 'This is one of the earliest datasets used in the literature on classification methods and widely used in statistics and machine learning.  The data set contains 3 classes of 50 instances each, where each class refers to a type of iris plant.  One class is linearly separable from the other 2; the latter are not linearly separable from each other.\\n\\nPredicted attribute: class of iris plant.\\n\\nThis is an exceedingly simple domain.\\n\\nThis data differs from the data presented in Fishers article (identified by Steve Chadwick,  spchadwick@espeedaz.net ).  The 35th sample should be: 4.9,3.1,1.5,0.2,\"Iris-setosa\" where the error is in the fourth feature. The 38th sample: 4.9,3.6,1.4,0.1,\"Iris-setosa\" where the errors are in the second and third features.  ', 'purpose': 'N/A', 'funded_by': None, 'instances_represent': 'Each instance is a plant', 'recommended_data_splits': None, 'sensitive_data': None, 'preprocessing_description': None, 'variable_info': None, 'citation': None}}\n",
      "           name     role         type demographic  \\\n",
      "0  sepal length  Feature   Continuous        None   \n",
      "1   sepal width  Feature   Continuous        None   \n",
      "2  petal length  Feature   Continuous        None   \n",
      "3   petal width  Feature   Continuous        None   \n",
      "4         class   Target  Categorical        None   \n",
      "\n",
      "                                         description units missing_values  \n",
      "0                                               None    cm             no  \n",
      "1                                               None    cm             no  \n",
      "2                                               None    cm             no  \n",
      "3                                               None    cm             no  \n",
      "4  class of iris plant: Iris Setosa, Iris Versico...  None             no  \n"
     ]
    }
   ],
   "source": [
    "# Copy-paste from: https://archive.ics.uci.edu/dataset/53/iris \n",
    "# fetch dataset \n",
    "iris = fetch_ucirepo(id=53) \n",
    "  \n",
    "# data (as pandas dataframes) \n",
    "X = iris.data.features \n",
    "y = iris.data.targets \n",
    "df = pd.merge(X, y, left_index = True, right_index = True)\n",
    "  \n",
    "# metadata \n",
    "print(iris.metadata) \n",
    "  \n",
    "# variable information \n",
    "print(iris.variables) \n"
   ]
  },
  {
   "cell_type": "code",
   "execution_count": 30,
   "id": "e3d59f2a-6ff4-4d23-a362-9cf745c8b2ed",
   "metadata": {
    "tags": []
   },
   "outputs": [
    {
     "name": "stdout",
     "output_type": "stream",
     "text": [
      "sepal length    0\n",
      "sepal width     0\n",
      "petal length    0\n",
      "petal width     0\n",
      "class           0\n",
      "dtype: int64\n"
     ]
    }
   ],
   "source": [
    "# Check missing values in each column\n",
    "print(df.isna().sum())"
   ]
  },
  {
   "cell_type": "code",
   "execution_count": 47,
   "id": "da636170-a8d3-4c98-8322-bbb04a71c6c0",
   "metadata": {
    "tags": []
   },
   "outputs": [
    {
     "name": "stdout",
     "output_type": "stream",
     "text": [
      "                sepal length                                            \n",
      "                       count   mean       std  min    25%  50%  75%  max\n",
      "class                                                                   \n",
      "Iris-setosa             50.0  5.006  0.352490  4.3  4.800  5.0  5.2  5.8\n",
      "Iris-versicolor         50.0  5.936  0.516171  4.9  5.600  5.9  6.3  7.0\n",
      "Iris-virginica          50.0  6.588  0.635880  4.9  6.225  6.5  6.9  7.9\n",
      "                sepal width                                              \n",
      "                      count   mean       std  min    25%  50%    75%  max\n",
      "class                                                                    \n",
      "Iris-setosa            50.0  3.418  0.381024  2.3  3.125  3.4  3.675  4.4\n",
      "Iris-versicolor        50.0  2.770  0.313798  2.0  2.525  2.8  3.000  3.4\n",
      "Iris-virginica         50.0  2.974  0.322497  2.2  2.800  3.0  3.175  3.8\n",
      "                petal length                                             \n",
      "                       count   mean       std  min  25%   50%    75%  max\n",
      "class                                                                    \n",
      "Iris-setosa             50.0  1.464  0.173511  1.0  1.4  1.50  1.575  1.9\n",
      "Iris-versicolor         50.0  4.260  0.469911  3.0  4.0  4.35  4.600  5.1\n",
      "Iris-virginica          50.0  5.552  0.551895  4.5  5.1  5.55  5.875  6.9\n",
      "                petal width                                          \n",
      "                      count   mean       std  min  25%  50%  75%  max\n",
      "class                                                                \n",
      "Iris-setosa            50.0  0.244  0.107210  0.1  0.2  0.2  0.3  0.6\n",
      "Iris-versicolor        50.0  1.326  0.197753  1.0  1.2  1.3  1.5  1.8\n",
      "Iris-virginica         50.0  2.026  0.274650  1.4  1.8  2.0  2.3  2.5\n"
     ]
    }
   ],
   "source": [
    "# Check distribution of each feature by class\n",
    "print(df[['sepal length', 'class']].groupby('class').describe())\n",
    "print(df[['sepal width', 'class']].groupby('class').describe())\n",
    "print(df[['petal length', 'class']].groupby('class').describe())\n",
    "print(df[['petal width', 'class']].groupby('class').describe())"
   ]
  },
  {
   "cell_type": "code",
   "execution_count": null,
   "id": "e6fc7f65-0e43-4149-abc1-36ee696dc226",
   "metadata": {},
   "outputs": [],
   "source": [
    "# Plot distributions\n"
   ]
  }
 ],
 "metadata": {
  "kernelspec": {
   "display_name": "Python 3",
   "language": "python",
   "name": "python3"
  },
  "language_info": {
   "codemirror_mode": {
    "name": "ipython",
    "version": 3
   },
   "file_extension": ".py",
   "mimetype": "text/x-python",
   "name": "python",
   "nbconvert_exporter": "python",
   "pygments_lexer": "ipython3",
   "version": "3.8.8"
  }
 },
 "nbformat": 4,
 "nbformat_minor": 5
}
